{
 "cells": [
  {
   "cell_type": "markdown",
   "id": "a42ca5b3",
   "metadata": {},
   "source": [
    "### Gradient Descent"
   ]
  },
  {
   "cell_type": "code",
   "execution_count": 2,
   "id": "8aab1400",
   "metadata": {},
   "outputs": [],
   "source": [
    "import pandas as pd\n",
    "import numpy as np\n",
    "import seaborn as sns\n",
    "import matplotlib.pyplot as plt\n",
    "%matplotlib inline"
   ]
  },
  {
   "cell_type": "code",
   "execution_count": 3,
   "id": "0ce83493",
   "metadata": {},
   "outputs": [],
   "source": [
    "df = pd.read_csv(\"student_scores.csv\")"
   ]
  },
  {
   "cell_type": "code",
   "execution_count": 4,
   "id": "16c2ff88",
   "metadata": {},
   "outputs": [
    {
     "data": {
      "text/html": [
       "<div>\n",
       "<style scoped>\n",
       "    .dataframe tbody tr th:only-of-type {\n",
       "        vertical-align: middle;\n",
       "    }\n",
       "\n",
       "    .dataframe tbody tr th {\n",
       "        vertical-align: top;\n",
       "    }\n",
       "\n",
       "    .dataframe thead th {\n",
       "        text-align: right;\n",
       "    }\n",
       "</style>\n",
       "<table border=\"1\" class=\"dataframe\">\n",
       "  <thead>\n",
       "    <tr style=\"text-align: right;\">\n",
       "      <th></th>\n",
       "      <th>Hours</th>\n",
       "      <th>Scores</th>\n",
       "    </tr>\n",
       "  </thead>\n",
       "  <tbody>\n",
       "    <tr>\n",
       "      <th>0</th>\n",
       "      <td>2.5</td>\n",
       "      <td>21</td>\n",
       "    </tr>\n",
       "    <tr>\n",
       "      <th>1</th>\n",
       "      <td>5.1</td>\n",
       "      <td>47</td>\n",
       "    </tr>\n",
       "    <tr>\n",
       "      <th>2</th>\n",
       "      <td>3.2</td>\n",
       "      <td>27</td>\n",
       "    </tr>\n",
       "    <tr>\n",
       "      <th>3</th>\n",
       "      <td>8.5</td>\n",
       "      <td>75</td>\n",
       "    </tr>\n",
       "    <tr>\n",
       "      <th>4</th>\n",
       "      <td>3.5</td>\n",
       "      <td>30</td>\n",
       "    </tr>\n",
       "  </tbody>\n",
       "</table>\n",
       "</div>"
      ],
      "text/plain": [
       "   Hours  Scores\n",
       "0    2.5      21\n",
       "1    5.1      47\n",
       "2    3.2      27\n",
       "3    8.5      75\n",
       "4    3.5      30"
      ]
     },
     "execution_count": 4,
     "metadata": {},
     "output_type": "execute_result"
    }
   ],
   "source": [
    "df.head()"
   ]
  },
  {
   "cell_type": "code",
   "execution_count": 6,
   "id": "52147f1d",
   "metadata": {},
   "outputs": [
    {
     "name": "stdout",
     "output_type": "stream",
     "text": [
      "Collecting sklearn\n",
      "  Using cached sklearn-0.0.tar.gz (1.1 kB)\n",
      "Collecting scikit-learn\n",
      "  Using cached scikit_learn-1.0.2-cp37-cp37m-win_amd64.whl (7.1 MB)\n",
      "Collecting threadpoolctl>=2.0.0\n",
      "  Using cached threadpoolctl-3.0.0-py3-none-any.whl (14 kB)\n",
      "Collecting joblib>=0.11\n",
      "  Using cached joblib-1.1.0-py2.py3-none-any.whl (306 kB)\n",
      "Requirement already satisfied: scipy>=1.1.0 in c:\\users\\shubham\\appdata\\local\\programs\\python\\python37\\lib\\site-packages (from scikit-learn->sklearn) (1.7.3)\n",
      "Requirement already satisfied: numpy>=1.14.6 in c:\\users\\shubham\\appdata\\local\\programs\\python\\python37\\lib\\site-packages (from scikit-learn->sklearn) (1.21.5)\n",
      "Using legacy setup.py install for sklearn, since package 'wheel' is not installed.\n",
      "Installing collected packages: threadpoolctl, joblib, scikit-learn, sklearn\n",
      "    Running setup.py install for sklearn: started\n",
      "    Running setup.py install for sklearn: finished with status 'done'\n",
      "Successfully installed joblib-1.1.0 scikit-learn-1.0.2 sklearn-0.0 threadpoolctl-3.0.0\n"
     ]
    },
    {
     "name": "stderr",
     "output_type": "stream",
     "text": [
      "WARNING: You are using pip version 20.1.1; however, version 21.3.1 is available.\n",
      "You should consider upgrading via the 'c:\\users\\shubham\\appdata\\local\\programs\\python\\python37\\python.exe -m pip install --upgrade pip' command.\n"
     ]
    }
   ],
   "source": [
    "!pip install sklearn\n"
   ]
  },
  {
   "cell_type": "code",
   "execution_count": 9,
   "id": "a08dca96",
   "metadata": {},
   "outputs": [],
   "source": [
    "# Model selection (train test split)\n",
    "from sklearn.model_selection import train_test_split\n",
    "# creating only two variable for train and test data set \n",
    "df_train , df_test = train_test_split(df, train_size=0.7, random_state= 0)\n",
    "# print(\"train size:{1} /n test size:{2}\".format(df_train.shape,df_test.shape))"
   ]
  },
  {
   "cell_type": "code",
   "execution_count": 10,
   "id": "c5b70eec",
   "metadata": {},
   "outputs": [
    {
     "name": "stdout",
     "output_type": "stream",
     "text": [
      "(8, 2)\n",
      "(17, 2)\n"
     ]
    }
   ],
   "source": [
    "print(df_test.shape)\n",
    "print(df_train.shape)"
   ]
  },
  {
   "cell_type": "code",
   "execution_count": 15,
   "id": "02d5d16c",
   "metadata": {},
   "outputs": [
    {
     "name": "stdout",
     "output_type": "stream",
     "text": [
      "[[0.71604938 0.75641026]\n",
      " [0.         0.        ]\n",
      " [0.49382716 0.38461538]\n",
      " [0.81481481 0.87179487]\n",
      " [0.27160494 0.32051282]\n",
      " [0.88888889 0.82051282]\n",
      " [1.         0.91025641]\n",
      " [0.61728395 0.64102564]\n",
      " [0.2962963  0.16666667]\n",
      " [0.19753086 0.1025641 ]\n",
      " [0.54320988 0.55128205]\n",
      " [0.19753086 0.16666667]\n",
      " [0.91358025 0.74358974]\n",
      " [0.17283951 0.05128205]\n",
      " [0.45679012 0.47435897]\n",
      " [0.96296296 1.        ]\n",
      " [0.41975309 0.30769231]] <class 'numpy.ndarray'>\n"
     ]
    }
   ],
   "source": [
    "# preprocessing data (MinMaxSaler) it is also known as normalization \n",
    "# range between 0 to 1\n",
    "from sklearn.preprocessing import MinMaxScaler\n",
    "feature_Scaling = MinMaxScaler()\n",
    "\n",
    "columns_feature= [\"Hours\",\"Scores\"]\n",
    "\n",
    "#applying on train data \n",
    "\n",
    "norm_train_data = feature_Scaling.fit_transform(df_train.loc[:,columns_feature])\n",
    "print(norm_train_data, type(norm_train_data))"
   ]
  },
  {
   "cell_type": "code",
   "execution_count": 16,
   "id": "fa5a3fa4",
   "metadata": {},
   "outputs": [
    {
     "data": {
      "text/html": [
       "<div>\n",
       "<style scoped>\n",
       "    .dataframe tbody tr th:only-of-type {\n",
       "        vertical-align: middle;\n",
       "    }\n",
       "\n",
       "    .dataframe tbody tr th {\n",
       "        vertical-align: top;\n",
       "    }\n",
       "\n",
       "    .dataframe thead th {\n",
       "        text-align: right;\n",
       "    }\n",
       "</style>\n",
       "<table border=\"1\" class=\"dataframe\">\n",
       "  <thead>\n",
       "    <tr style=\"text-align: right;\">\n",
       "      <th></th>\n",
       "      <th>Hours</th>\n",
       "      <th>Scores</th>\n",
       "    </tr>\n",
       "  </thead>\n",
       "  <tbody>\n",
       "    <tr>\n",
       "      <th>0</th>\n",
       "      <td>0.716049</td>\n",
       "      <td>0.756410</td>\n",
       "    </tr>\n",
       "    <tr>\n",
       "      <th>1</th>\n",
       "      <td>0.000000</td>\n",
       "      <td>0.000000</td>\n",
       "    </tr>\n",
       "    <tr>\n",
       "      <th>2</th>\n",
       "      <td>0.493827</td>\n",
       "      <td>0.384615</td>\n",
       "    </tr>\n",
       "    <tr>\n",
       "      <th>3</th>\n",
       "      <td>0.814815</td>\n",
       "      <td>0.871795</td>\n",
       "    </tr>\n",
       "    <tr>\n",
       "      <th>4</th>\n",
       "      <td>0.271605</td>\n",
       "      <td>0.320513</td>\n",
       "    </tr>\n",
       "  </tbody>\n",
       "</table>\n",
       "</div>"
      ],
      "text/plain": [
       "      Hours    Scores\n",
       "0  0.716049  0.756410\n",
       "1  0.000000  0.000000\n",
       "2  0.493827  0.384615\n",
       "3  0.814815  0.871795\n",
       "4  0.271605  0.320513"
      ]
     },
     "execution_count": 16,
     "metadata": {},
     "output_type": "execute_result"
    }
   ],
   "source": [
    "df_train = pd.DataFrame(norm_train_data, columns = columns_feature)\n",
    "\n",
    "df_train.head()\n",
    "\n"
   ]
  },
  {
   "cell_type": "code",
   "execution_count": 17,
   "id": "8d62a2e0",
   "metadata": {},
   "outputs": [],
   "source": [
    "x_train = np.array(df_train.loc[:,[\"Hours\"]])\n",
    "y_train = np.array(df_train.loc[:,[\"Scores\"]])"
   ]
  },
  {
   "cell_type": "markdown",
   "id": "b8efcda0",
   "metadata": {},
   "source": [
    "### Now building gradient descent algorithm\n",
    "First we have to set parameter randomly in our initial stage \n",
    "<br>like learning rate (alpha) and no of iteration "
   ]
  },
  {
   "cell_type": "markdown",
   "id": "1f868909",
   "metadata": {},
   "source": [
    "Hypothesis\n",
    "<br>\n",
    "$h_\\theta(x) =\\theta_0 +\\theta_1 x$\n",
    "\n",
    "Parameters : $\\theta_0 ,\\theta_1$\n",
    "<br>\n",
    "\n",
    "Cost Function / Squared Error Function:\n",
    "\n",
    "$ J(\\theta_0 ,\\theta_1) = \\frac{1}{2m} \\sum_{i=1}^{m} \\left(h_\\theta(x^{(i)}) - y^{(i)}\\right)^{2}$\n",
    "\n",
    "Gradient Descent Algorithm\n",
    "<br>\n",
    "{\n",
    "<br>\n",
    "$\\theta_j := \\theta_j - \\alpha \\frac{\\partial}{\\partial \\theta_j} J(\\theta_0, \\theta_1)$\n",
    "<br>\n",
    "(for $j = 0$ and $j = 1$)  \n",
    "<br>\n",
    "}\n",
    "\n",
    "<br>\n",
    "NOTE $- (:=)$ this symbol is used as a assignment operator\n",
    "where,<br>\n",
    "$\\alpha =$Lerning Parameter  \n"
   ]
  },
  {
   "cell_type": "markdown",
   "id": "8aff7f04",
   "metadata": {},
   "source": [
    "Simultaneous Update\n",
    "<br>\n",
    "temp0$:= \\theta_j - \\alpha \\frac{\\partial}{\\partial \\theta_0} J(\\theta_0, \\theta_1)$   ... (equ 1)\n",
    "<br>\n",
    "temp1$:= \\theta_j - \\alpha \\frac{\\partial}{\\partial \\theta_1} J(\\theta_0, \\theta_1)$   ... (equ 2)\n",
    "<br>\n",
    "$\\theta_0:=$ temp0\n",
    "<br>\n",
    "$\\theta_1:=$ temp1\n",
    "\n",
    "\n",
    "\n",
    "\n"
   ]
  },
  {
   "cell_type": "markdown",
   "id": "c6c6e980",
   "metadata": {},
   "source": [
    "### Taking derivative with respective $\\theta_0$\n",
    "\n",
    "$ \\frac{d}{d \\theta_0} J(\\theta_0, \\theta_1) = \\frac{d}{d \\theta_0} \\frac{1}{2m} \\sum_{i=1}^{m} [ \\theta_0 + \\theta_1 x^{(i)} - y^{(i)}]^{2}$\n",
    "<br><br>\n",
    "$ \\frac{d}{d \\theta_0} J(\\theta_0, \\theta_1) = \\frac{1}{2m} \\sum_{i=1}^{m} 2 [ \\theta_0 + \\theta_1 x^{(i)} - y^{(i)}] *1$\n",
    "<br><br>\n",
    "$ \\frac{d}{d \\theta_0} J(\\theta_0, \\theta_1) = \\frac{1}{m} \\sum_{i=1}^{m}  [ \\theta_0 + \\theta_1 x^{(i)} - y^{(i)}]$\n",
    "<br><br>\n",
    "$ \\frac{d}{d \\theta_0} J(\\theta_0, \\theta_1) = \\frac{1}{m}\\sum_{i=1}^{m}  [  h_\\theta(x^{(i)})- y^{(i)}]$  ...Derived Equation\n",
    "\n"
   ]
  },
  {
   "cell_type": "markdown",
   "id": "94526635",
   "metadata": {},
   "source": [
    "### Taking derivative with respective $\\theta_1$\n",
    "\n",
    "$ \\frac{d}{d \\theta_1} J(\\theta_0, \\theta_1) = \\frac{d}{d \\theta_0} \\frac{1}{2m} \\sum_{i=1}^{m} [ \\theta_0 + \\theta_1 x^{(i)} - y^{(i)}]^{2}$\n",
    "<br><br>\n",
    "$ \\frac{d}{d \\theta_1} J(\\theta_0, \\theta_1) = \\frac{1}{2m} \\sum_{i=1}^{m} 2 [ \\theta_0 + \\theta_1 x^{(i)} - y^{(i)}] * x^{(i)}$\n",
    "<br><br>\n",
    "$ \\frac{d}{d \\theta_1} J(\\theta_0, \\theta_1) = \\frac{1}{m} \\sum_{i=1}^{m}  [ \\theta_0 + \\theta_1 x^{(i)} - y^{(i)}]*x^{(i)}$\n",
    "<br><br>\n",
    "$ \\frac{d}{d \\theta_1} J(\\theta_0, \\theta_1) = \\frac{1}{m}\\sum_{i=1}^{m}  [  h_\\theta(x^{(i)})- y^{(i)}]*x^{(i)}$ ...Derived Equation\n"
   ]
  },
  {
   "cell_type": "markdown",
   "id": "b2e35a2c",
   "metadata": {},
   "source": [
    "### Gradient Descent Algorithm\n",
    "$\\theta_0 := \\theta_0 - \\alpha \\frac{1}{m}\\sum_{i=1}^{m}  [h_\\theta(x^{(i)})- y^{(i)}]$\n",
    "<br>\n",
    "$\\theta_1 := \\theta_1 - \\alpha \\frac{1}{m}\\sum_{i=1}^{m}  [h_\\theta(x^{(i)})- y^{(i)}]$"
   ]
  },
  {
   "cell_type": "code",
   "execution_count": null,
   "id": "ddd1a9c8",
   "metadata": {},
   "outputs": [],
   "source": []
  }
 ],
 "metadata": {
  "kernelspec": {
   "display_name": "Python 3 (ipykernel)",
   "language": "python",
   "name": "python3"
  },
  "language_info": {
   "codemirror_mode": {
    "name": "ipython",
    "version": 3
   },
   "file_extension": ".py",
   "mimetype": "text/x-python",
   "name": "python",
   "nbconvert_exporter": "python",
   "pygments_lexer": "ipython3",
   "version": "3.7.9"
  }
 },
 "nbformat": 4,
 "nbformat_minor": 5
}
